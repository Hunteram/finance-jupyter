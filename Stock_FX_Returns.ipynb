{
 "cells": [
  {
   "cell_type": "raw",
   "metadata": {},
   "source": [
    "<script>\n",
    "  jQuery(document).ready(function($) {\n",
    "\n",
    "   $(window).on('load', function(){\n",
    "    $('#preloader').fadeOut('slow',function(){$(this).remove();});\n",
    "  });\n",
    "\n",
    "  });\n",
    "</script>\n",
    "\n",
    "<style type=\"text/css\">\n",
    "  div#preloader { position: fixed;\n",
    "      left: 0;\n",
    "      top: 0;\n",
    "      z-index: 999;\n",
    "      width: 100%;\n",
    "      height: 100%;\n",
    "      overflow: visible;\n",
    "      background: #fff url('http://preloaders.net/preloaders/720/Moving%20line.gif') no-repeat center center;\n",
    "  }\n",
    "\n",
    "</style>\n",
    "\n",
    "<div id=\"preloader\"></div>"
   ]
  },
  {
   "cell_type": "raw",
   "metadata": {},
   "source": [
    "<script>\n",
    "  function code_toggle() {\n",
    "    if (code_shown){\n",
    "      $('div.input').hide('500');\n",
    "      $('#toggleButton').val('Show Code')\n",
    "    } else {\n",
    "      $('div.input').show('500');\n",
    "      $('#toggleButton').val('Hide Code')\n",
    "    }\n",
    "    code_shown = !code_shown\n",
    "  }\n",
    "\n",
    "  $( document ).ready(function(){\n",
    "    code_shown=false;\n",
    "    $('div.input').hide()\n",
    "  });\n",
    "</script>\n",
    "<form action=\"javascript:code_toggle()\"><input type=\"submit\" id=\"toggleButton\" value=\"Show Code\"></form>"
   ]
  },
  {
   "cell_type": "code",
   "execution_count": 38,
   "metadata": {
    "collapsed": true
   },
   "outputs": [],
   "source": [
    "\n",
    "import pandas as pd\n",
    "import numpy as np\n",
    "import datetime\n",
    "import matplotlib.pyplot as plt\n",
    "%matplotlib inline\n",
    "#The two lines below are used for parsing the xml file for historical FX data\n",
    "import urllib.request\n",
    "import xml.etree.ElementTree as ET\n",
    "# Get the \"pandas datareader\" package used for pulling down stock data\n",
    "import pandas_datareader.data as web"
   ]
  },
  {
   "cell_type": "markdown",
   "metadata": {},
   "source": [
    "# Return attribution\n",
    "In this short example we will use Python and Jupyter to learn how to\n",
    "    1. Get data (stock and foreign exchange rates from the web\n",
    "    2. Perform ane elementary return attribution analysis of a single stock\n",
    "\n",
    "## Downloading data from the web\n",
    "\n",
    "### 1. Using the \"datareader package\" to download historical stock data from yahoo or google finance\n",
    "Let us pick the US listed stock POT (which mines raw material for fertilizer) as an example:\n"
   ]
  },
  {
   "cell_type": "code",
   "execution_count": 39,
   "metadata": {
    "collapsed": false
   },
   "outputs": [
    {
     "data": {
      "image/png": "[encoded data removed]",
      "text/plain": [
       "<matplotlib.figure.Figure at 0xa5bd898>"
      ]
     },
     "metadata": {},
     "output_type": "display_data"
    }
   ],
   "source": [
    "#Define start and end dates\n",
    "start = datetime.datetime(2000, 1, 1)\n",
    "end = datetime.datetime(2016, 6, 14)\n",
    "#Get stock data from yahoo or google using the datareader package\n",
    "f = web.DataReader(\"POT\", 'yahoo', start, end)\n",
    "f['Adj Close'].plot(kind='line',title='Potash corp').set_ylabel(\"USD\");"
   ]
  },
  {
   "cell_type": "markdown",
   "metadata": {},
   "source": [
    "### 2. Using a more handcrafted method to get Forex data from the European central bank's web site\n",
    "In this example we will download FX data from the ECB (European union's central bank)\n",
    "use the ElementTree Python package to find and retrieve the observations in an orderly manner"
   ]
  },
  {
   "cell_type": "code",
   "execution_count": 40,
   "metadata": {
    "collapsed": false
   },
   "outputs": [],
   "source": [
    "#In this example we will download FX data from the ECB (European union's central bank)\n",
    "# use the ElementTree Python package to find and retrieve the observations in an orderly manner\n",
    "\n",
    "#Let's open a connection to the xml file on the web in preparation for scraping down the data\n",
    "tree = ET.parse(urllib.request.urlopen('http://www.ecb.europa.eu/stats/exchange/eurofxref/html/usd.xml'))\n",
    "doc = tree.getroot()\n",
    "\n",
    "#print(\"doc[1][1].get('CURRENCY')\");\n",
    "#print(doc[1][1].get('CURRENCY'));\n",
    "\n",
    "# Create a pandas data frame holding two numpy arrays\n",
    "# having (approximately) sufficiently large size to hold the observations \n",
    "# (1999/Jan/4-2016/Jun/7 = 4464 rows). If too small more rows will be added automatically\n",
    "numberOfRows = 4464\n",
    "\n",
    "# create dataframe\n",
    "df = pd.DataFrame(index=np.arange(0, numberOfRows), columns=('TIME_PERIOD','OBS_VALUE') )\n",
    "\n",
    "# Use ElementTree to walk through all the children representing the FX rates\n",
    "# and populate the data frame\n",
    "# code for exploring the XML file included in the comments section below\n",
    "\n",
    "obsNumber=0\n",
    "walkAll = doc[1][1].iter()\n",
    "for  elt in walkAll:\n",
    "    df.loc[obsNumber]=[elt.attrib.get('TIME_PERIOD'),elt.attrib.get('OBS_VALUE')]\n",
    "    obsNumber+=1\n",
    "\n",
    "#print(\"obsNumber is: \",obsNumber)\n",
    "#df.head()\n",
    "\n",
    "#COMMENTS SECTION\n",
    "#In order to explore the XML file it is best to open it in a text editor\n",
    "#and then use statements as those below to understand its structure (have fun!)\n",
    "#tree = ET.parse(urllib.request.urlopen('http://www.ecb.europa.eu/stats/exchange/eurofxref/html/usd.xml'))\n",
    "#doc = tree.getroot()\n",
    "#print(\"root:\")\n",
    "#print(doc)\n",
    "#for child in doc:\n",
    "#    print (\"child:\")\n",
    "#    print(child.tag, child.attrib)\n",
    "#print ('doc[0]')\n",
    "#print(doc[0].attrib)\n",
    "#print ('doc[1]')\n",
    "#print(doc[1].attrib)\n",
    "#print ('doc[1][1]')\n",
    "#print(doc[1][1].attrib)\n",
    "#print ('doc[1][1][0]')\n",
    "#print(doc[1][1][0].attrib)\n",
    "#print ('classdoc[1][1][0]')\n",
    "#print(type(doc[1][1][0]))\n",
    "#print(\"doc[1][1].get('CURRENCY')\");\n",
    "#print(doc[1][1].get('CURRENCY'));"
   ]
  },
  {
   "cell_type": "code",
   "execution_count": 41,
   "metadata": {
    "collapsed": false
   },
   "outputs": [],
   "source": [
    "#Let's clean up the dataframe as follows:\n",
    "#convert string values to datetime and float\n",
    "df['TIME_PERIOD']=pd.to_datetime(df['TIME_PERIOD'])\n",
    "df['OBS_VALUE']=df['OBS_VALUE'].astype(float)\n",
    "df.head()\n",
    "#remove first line which is not an observation (it is the parent in the xml structure)\n",
    "df=df.drop([0]);\n",
    "#df.head()\n",
    "# Use the datetime values as indexes\n",
    "indexed_df = df.set_index(['TIME_PERIOD'])\n",
    "#indexed_df.head()"
   ]
  },
  {
   "cell_type": "code",
   "execution_count": 42,
   "metadata": {
    "collapsed": false
   },
   "outputs": [
    {
     "data": {
      "image/png": "[encoded data removed]",
      "text/plain": [
       "<matplotlib.figure.Figure at 0xa394da0>"
      ]
     },
     "metadata": {},
     "output_type": "display_data"
    }
   ],
   "source": [
    "#plot the mofu\n",
    "indexed_df['OBS_VALUE'].plot(kind='line',title='EURUSD=x').set_ylabel(\"USD per EUR\");"
   ]
  },
  {
   "cell_type": "markdown",
   "metadata": {},
   "source": [
    "## Return calculation and return attribution\n",
    "We will take a look a the stock performance over the seven-year period: end of 2008 to end of 2015.\n",
    "\n",
    "At the beginning of the period the price was USD 20.17 while at the end the price had fallen to USD 16.44 (i.e.-18.51 percent).\n",
    "\n",
    "Let us now illustrate how the performance presents itself differently as measured in different currencies (USD or EUR).\n",
    "\n",
    "In the calculations below we have chosen to decompose the returns into two factors: Stock and FX return. \n",
    "\n",
    "Of course you might chose to include other factors such as benchmark or sector indices in your calculations.\n"
   ]
  },
  {
   "cell_type": "code",
   "execution_count": 43,
   "metadata": {
    "collapsed": false
   },
   "outputs": [
    {
     "name": "stdout",
     "output_type": "stream",
     "text": [
      "Stock Price 2008-12-31 USD: 20.17 EUR: 14.49\n",
      "Stock Price 2015-12-31 USD: 16.44 EUR: 15.1\n",
      "***Return data***\n",
      "Period Stock return in USD: -18.51 %\n",
      "Period Stock return in EUR: 4.17 %\n",
      "***FX data***\n",
      "EURUSD return (positive means USD strenghtened): 27.83 %\n",
      "***Return decomposition***\n",
      "The period return (+4.17% ) from the perspective of a EUR based investor is composed of\n",
      "A LOSS on the underlying USD quoted stock of 18.51% and\n",
      "a GAIN from a strengthening USD of 27.83% :\n",
      "**********\n",
      "Algebraically: 104.17% = (1-18.51%)x(1+27.83%)\n"
     ]
    }
   ],
   "source": [
    "#f['2001-01']\n",
    "startPriceUSD=f.loc['2008-12-31']['Adj Close']\n",
    "endPriceUSD=f.loc['2015-12-31']['Adj Close']\n",
    "startFXEURUSD=indexed_df.loc['2008-12-31']['OBS_VALUE']\n",
    "endFXEURUSD=indexed_df.loc['2015-12-31']['OBS_VALUE']\n",
    "startPriceEUR=startPriceUSD/startFXEURUSD\n",
    "endPriceEUR=endPriceUSD/endFXEURUSD\n",
    "\n",
    "print('Stock Price 2008-12-31 USD:',round(startPriceUSD,2),'EUR:',round(startPriceEUR,2))\n",
    "print('Stock Price 2015-12-31 USD:',round(endPriceUSD,2),'EUR:',round(endPriceEUR,2))\n",
    "print ('***Return data***')\n",
    "print('Period Stock return in USD:',round((endPriceUSD/startPriceUSD-1)*100,2),'%')\n",
    "print('Period Stock return in EUR:',round((endPriceEUR/startPriceEUR-1)*100,2),'%')\n",
    "print ('***FX data***')\n",
    "#print('EURUSD=x 2008-12-31:',startFXEURUSD)\n",
    "#print('EURUSD=x 2015-12-31:',endFXEURUSD)\n",
    "print('EURUSD return (positive means USD strenghtened):',round((startFXEURUSD/endFXEURUSD-1)*100,2),'%')\n",
    "print('***Return decomposition***')\n",
    "print('The period return (+4.17% ) from the perspective of a EUR based investor is composed of')\n",
    "print('A LOSS on the underlying USD quoted stock of 18.51% and') \n",
    "print('a GAIN from a strengthening USD of 27.83% :')\n",
    "print('**********')\n",
    "print('Algebraically: 104.17% = (1-18.51%)x(1+27.83%)')"
   ]
  },
  {
   "cell_type": "raw",
   "metadata": {},
   "source": [
    "<script>\n",
    "  $(document).ready(function(){\n",
    "    $('div.prompt').hide();\n",
    "    $('div.back-to-top').hide();\n",
    "    $('nav#menubar').hide();\n",
    "    $('.breadcrumb').hide();\n",
    "    $('.hidden-print').hide();\n",
    "  });\n",
    "</script>\n",
    "\n",
    "<footer id=\"attribution\" style=\"float:right; color:#999; background:#fff;\">\n",
    "Created with Jupyter, delivered by Fastly, rendered by Rackspace.\n",
    "</footer>"
   ]
  }
 ],
 "metadata": {
  "kernelspec": {
   "display_name": "Python 3",
   "language": "python",
   "name": "python3"
  },
  "language_info": {
   "codemirror_mode": {
    "name": "ipython",
    "version": 3
   },
   "file_extension": ".py",
   "mimetype": "text/x-python",
   "name": "python",
   "nbconvert_exporter": "python",
   "pygments_lexer": "ipython3",
   "version": "3.4.4"
  }
 },
 "nbformat": 4,
 "nbformat_minor": 0
}
