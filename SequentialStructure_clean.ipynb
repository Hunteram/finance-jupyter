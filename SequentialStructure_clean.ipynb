{
 "cells": [
  {
   "cell_type": "markdown",
   "metadata": {},
   "source": [
    "# Interactive Structured Bond **LIVE VERSION**\n",
    "\n",
    "In this interactive notebook (created with Python and Jupyter) we take a look at the performance of a structured finance deal under various degrees of stress.\n",
    "\n",
    "A typical deal structure would hold an underlying asset (e.g. a portfolio of Receivables, Non-Performing Loans or Real Estate) that forms the basis for the transaction and is the generator of cash flows.\n",
    "\n",
    "## Deal structure\n",
    "By taking into account the objectives of the various potential investors it is possible to come up with a structure that would be satisfactory to all parties. \n",
    "\n",
    "In particular prudent investors would like to receive their share of the anticipated returns and the associated cash flows first in line (\"Senior\"). This could be achieved by assigning the largest part of cash to first to Senior tranches and thereafter to Junior noteholders and lastly Equity to the more risk- tolerant investors.\n",
    "\n",
    "This process of assigning cash flows sequentially is called a \"Waterfall\"; Imagine a waterbed in which the water flowing over (and filling up) first interest payments, then amortising the upper (senior) echelons and later the more junior and downriver sections.\n",
    "\n",
    "Of course there are many possible technicalities to a deal including paydown mechanics (sequential, pro-rata) and other items in the waterfall (expenses, liquidity providers) but the main principle is to allocate or \"tranche\" the available cash flows as described above. Certain transactions also get assigned a standardised level of perceived riskyness (e.g. \"triple-A\" or \"single-B\") by rating agencies.\n",
    "\n",
    "## Scenarios\n",
    "When structuring a deal you would run many simulations to assess how well it would perform under various scenarios such as fall in asset value, delay to collections.\n",
    "\n",
    "In this in interactive example we have three classes of bonds to be paid down in sequence starting with the most senior \"A\" tranche which (as it is the least risky pays the least interest amount). Subsequently what is left of cash flows goes to equity (one could assume that the most junior pieces would be kept with the deal originator keeping its skin in the game).\n",
    "\n",
    "Specifically in this example we have the following tranche sizes: A 60%, B 30% and Junior 10%.\n",
    "Interest rates (increase with level of risk): A 5%, B 7% and Junior 12%.\n",
    "\n",
    "\n",
    "## Interactive model\n",
    "By moving the sliders (see technical note) below you can explore what effect loss in value and/or delays have to the paydown of the principal and the income to equity in a typical deal. Note that when there is not enough cash to pay interest (top priority) in a period, the missing amount would be capitalised (added to the corresponding bond tranche).\n"
   ]
  },
  {
   "cell_type": "code",
   "execution_count": 3,
   "metadata": {},
   "outputs": [
    {
     "data": {
      "application/vnd.jupyter.widget-view+json": {
       "model_id": "5e4839b1cb994bd199714351836b2a6b",
       "version_major": 2,
       "version_minor": 0
      },
      "text/plain": [
       "A Jupyter Widget"
      ]
     },
     "metadata": {},
     "output_type": "display_data"
    }
   ],
   "source": [
    "%matplotlib inline\n",
    "import matplotlib\n",
    "import datetime\n",
    "from dateutil import relativedelta\n",
    "import pandas as pd\n",
    "import numpy as np\n",
    "import matplotlib.pyplot as plt\n",
    "from ipywidgets import *\n",
    "\n",
    "#interest rates (divide by four as quarterly used)\n",
    "int_rate=np.array([0.05,0.07,0.12])/4\n",
    "#amort_rate=[0.1,0.08,0.04]\n",
    "noBondClasses=3\n",
    "nper=100; #number of periods\n",
    "\n",
    "def koko(Asset_Valuation,Delay_to_Sales):\n",
    "    #Inititate the capital in the three bond tranches\n",
    "    bondTranches = np.array([np.zeros(nper)]*noBondClasses*4).T\n",
    "      \n",
    "    bondTranches[0,3]=60.0;\n",
    "    bondTranches[0,7]=30;\n",
    "    bondTranches[0,11]=10;\n",
    "    \n",
    "    def salesProfile(Delay_to_Sales,Asset_Valuation):\n",
    "    # generate cash flow profile\n",
    "        cashIn = np.array([np.zeros(nper)]).T\n",
    "        for per in range(0,nper//20+Delay_to_Sales):\n",
    "            cashIn[per]=6;\n",
    "        for per in range(nper//20+Delay_to_Sales,nper//5+Delay_to_Sales):\n",
    "            cashIn[per]=cashIn[per-1]+1;\n",
    "        for per in range(nper//5+Delay_to_Sales,3*nper//5+Delay_to_Sales):    \n",
    "            cashIn[per]=max(0,cashIn[per-1]-0.5);\n",
    "        cashIn/=cashIn.sum()\n",
    "        cashIn*=Asset_Valuation;\n",
    "        return cashIn;\n",
    "  \n",
    "    \n",
    "    cashOut = np.array([np.zeros(nper)]).T;\n",
    "    cashIn=salesProfile(Delay_to_Sales,Asset_Valuation);\n",
    "  \n",
    "    \n",
    "    def calcAmort(nper): \n",
    "\n",
    "        for per in range(1,nper):\n",
    "            freeCash=cashIn[per].copy()\n",
    "            \n",
    "            #interest due class A\n",
    "            bondTranches[per,0]=bondTranches[per-1,3]*int_rate[0];\n",
    "            #interest paid class A\n",
    "            bondTranches[per,1]=min(freeCash,bondTranches[per,0]);\n",
    "            freeCash-=bondTranches[per,1];\n",
    "            #interest capitalised in period class A\n",
    "            bondTranches[per,2]=bondTranches[per,0]-bondTranches[per,1];\n",
    " \n",
    "            #interest due class B\n",
    "            bondTranches[per,4]=bondTranches[per-1,7]*int_rate[1];\n",
    "            #interest paid class B\n",
    "            bondTranches[per,5]=min(freeCash,bondTranches[per,4]);\n",
    "            freeCash-=bondTranches[per,5]\n",
    "            #interest capitalised in period class B\n",
    "            bondTranches[per,6]=bondTranches[per,4]-bondTranches[per,5];\n",
    "            \n",
    "            #interest due class Jr\n",
    "            bondTranches[per,8]=bondTranches[per-1,11]*int_rate[2];\n",
    "            #interest paid class Jr\n",
    "            bondTranches[per,9]=min(freeCash,bondTranches[per,8]);\n",
    "            freeCash-=bondTranches[per,9]\n",
    "            #interest capitalised in period class Jr\n",
    "            bondTranches[per,10]=bondTranches[per,8]-bondTranches[per,9]\n",
    "            \n",
    "            #amortisation class A\n",
    "            #amortDue=bondTranches[per-1,3]*amort_rate[0];\n",
    "            amortDue=bondTranches[per-1,3];\n",
    "            amortPaid=min(freeCash,amortDue)\n",
    "            bondTranches[per,3]=bondTranches[per-1,3]-amortPaid+bondTranches[per,2]\n",
    "            freeCash-=amortPaid\n",
    " \n",
    "            #amortisation class B\n",
    "            #amortDue=bondTranches[per-1,7]*amort_rate[1];\n",
    "            amortDue=bondTranches[per-1,7];\n",
    "            amortPaid=min(freeCash,amortDue)\n",
    "            bondTranches[per,7]=bondTranches[per-1,7]-amortPaid+bondTranches[per,6]\n",
    "            freeCash-=amortPaid\n",
    "            \n",
    "            #amortisation class Jr\n",
    "            amortDue=bondTranches[per-1,11];\n",
    "            amortPaid=min(freeCash,amortDue)\n",
    "            bondTranches[per,11]=bondTranches[per-1,11]-amortPaid+bondTranches[per,10];\n",
    "            freeCash-=amortPaid\n",
    "            cashOut[per]=cashOut[per-1]+freeCash;\n",
    "            #bondTranches[per,2]=-min(cashIn[per],bondTranches[per,0],bondTranches[0,3]*amort_rate[0]);\n",
    "\n",
    "\n",
    "\n",
    "    calcAmort(nper);\n",
    "\n",
    "\n",
    "    todays_date = datetime.datetime.now().date()\n",
    "    index = pd.date_range(todays_date-datetime.timedelta(10), periods=nper, freq='Q')\n",
    "    columns = ['IntDueA','IntPaidA','IntCapA', 'Senior A 5%','IntDueB','IntPaidB','IntCapB', 'Senior B 7%','IntDueJr','IntPaidJr','IntCapJr', 'Junior 12%']\n",
    "    df = pd.DataFrame( bondTranches, index=index, columns=columns)\n",
    "    df['Cumulative to Equity']=cashOut\n",
    "    \n",
    "    businessPlan=salesProfile(0,175);\n",
    "    cashFlows = pd.DataFrame( cashIn, index=index, columns=['Stressed scenario']);\n",
    "    cashFlows['Business Plan']=businessPlan;\n",
    "\n",
    "    fig, axs = plt.subplots(1,2)\n",
    "\n",
    "\n",
    "    df.loc[:,['Senior A 5%','Senior B 7%','Junior 12%','Cumulative to Equity']].plot(kind='area',stacked=True,ax=axs[1], figsize=(15, 5),title=\"Principal outstanding and equity\")\n",
    "   \n",
    "   \n",
    "    cashFlows.plot(ax=axs[0],title=\"Cash flow generated from assets in portfolio\");\n",
    "\n",
    "\n",
    "  \n",
    "interact(koko,Asset_Valuation=(150,200,5),Delay_to_Sales=(-4,12,2));\n",
    "\n"
   ]
  },
  {
   "cell_type": "markdown",
   "metadata": {},
   "source": [
    "In the first scenario (above) which simulates a minor delay (four quarters) in cash flow profile\n",
    "all the 100 units of debt tranches are paid down in full sequentially. \n",
    "Thereafter approx 30 units are accumulated to equity between 2027 and 2031."
   ]
  },
  {
   "cell_type": "code",
   "execution_count": 4,
   "metadata": {},
   "outputs": [
    {
     "data": {
      "application/vnd.jupyter.widget-view+json": {
       "model_id": "cb8018c3d7df46b092004de1ea43e5c2",
       "version_major": 2,
       "version_minor": 0
      },
      "text/plain": [
       "A Jupyter Widget"
      ]
     },
     "metadata": {},
     "output_type": "display_data"
    }
   ],
   "source": [
    "interact(koko,Asset_Valuation=(130,180,5),Delay_to_Sales=(-4,12,2));"
   ]
  },
  {
   "cell_type": "markdown",
   "metadata": {},
   "source": [
    "In the second scenario (above) which simulates a decrease in portfolio valuation of some 12%\n",
    "only the senior 90 units (A and B) of debt tranches are paid down. \n",
    "There is not enough cash available to pay off the junior 10 units which start to increase\n",
    "(through capitalised interest) in 2031. Of course there will be no flow to equity in this case."
   ]
  },
  {
   "cell_type": "markdown",
   "metadata": {},
   "source": [
    "## Technical note\n",
    "*Update Jan 2018: The combination of Jupyterhub, mybinder and the notebook plugin Appmode have now made \"live\" functionality possible! Thanks in particular to Jupyterhub, Yuvi Panda and Chris Holdgraf for help. \n",
    "Jan 2016: interactivity in this application type (ipywidgets) is not yet available over the web. Until that functionality becomes live you would need to download and install the open source notebook Jupyter from url('http://jupyter.org') to your machine in order to be able to have access to the sliders and full interactivity."
   ]
  }
 ],
 "metadata": {
  "kernelspec": {
   "display_name": "Python 3",
   "language": "python",
   "name": "python3"
  },
  "language_info": {
   "codemirror_mode": {
    "name": "ipython",
    "version": 3
   },
   "file_extension": ".py",
   "mimetype": "text/x-python",
   "name": "python",
   "nbconvert_exporter": "python",
   "pygments_lexer": "ipython3",
   "version": "3.6.3"
  }
 },
 "nbformat": 4,
 "nbformat_minor": 1
}
